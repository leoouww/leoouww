{
  "nbformat": 4,
  "nbformat_minor": 0,
  "metadata": {
    "colab": {
      "provenance": [],
      "collapsed_sections": [],
      "authorship_tag": "ABX9TyOHkgPpv/1GKEQ9BxSBvIqk",
      "include_colab_link": true
    },
    "kernelspec": {
      "name": "python3",
      "display_name": "Python 3"
    },
    "language_info": {
      "name": "python"
    }
  },
  "cells": [
    {
      "cell_type": "markdown",
      "metadata": {
        "id": "view-in-github",
        "colab_type": "text"
      },
      "source": [
        "<a href=\"https://colab.research.google.com/github/leoouww/leoouww/blob/main/ATVAVA.ipynb\" target=\"_parent\"><img src=\"https://colab.research.google.com/assets/colab-badge.svg\" alt=\"Open In Colab\"/></a>"
      ]
    },
    {
      "cell_type": "code",
      "execution_count": 91,
      "metadata": {
        "id": "4uyIA-M4Viko"
      },
      "outputs": [],
      "source": [
        "#Leonardo Rodrigues de Castro\n",
        "#PT3008479\n",
        "\n",
        "# TÓPICOS ESPECIAIS: ATIVIDADE AVALIATIVA\n",
        "\n",
        "\n",
        "class Pessoa:\n",
        "  def __init__(self, nome, cpf, cidade):\n",
        "    self.__nome = nome\n",
        "    self.__cpf = cpf\n",
        "    self.__cidade = cidade\n",
        "\n",
        "  def exibir_dados(self):\n",
        "    print('Nome: '+self.__nome+ ', CPF: '+str(self.__cpf)+ ', cidade: '+str(self.__cidade))\n",
        "\n",
        "\n",
        "class Historico(Pessoa):\n",
        "    def __init__(self, nome, cpf, cidade, transacao):\n",
        "        super().__init__(nome, cpf, cidade) \n",
        "        self.transacao = transacao\n",
        "    \n",
        "    def exibir(self):\n",
        "      print(self.exibir_dados())"
      ]
    },
    {
      "cell_type": "code",
      "source": [
        "Carla = Historico(\"Carla\", \"2225555\", \"Bauru\", \"debito\")\n",
        "Fabio = Historico(\"Fabio\", \"2225555\", \"Cotia\", \"credito\")\n",
        "print(Carla.transacao)\n",
        "print(Fabio.transacao)\n"
      ],
      "metadata": {
        "colab": {
          "base_uri": "https://localhost:8080/"
        },
        "id": "rcJ23VkkZM92",
        "outputId": "38cebd8f-976c-4bdd-9ba4-2d184a80c46c"
      },
      "execution_count": 92,
      "outputs": [
        {
          "output_type": "stream",
          "name": "stdout",
          "text": [
            "debito\n",
            "credito\n"
          ]
        }
      ]
    },
    {
      "cell_type": "code",
      "source": [
        "Carla.exibir()\n",
        "Fabio.exibir()"
      ],
      "metadata": {
        "colab": {
          "base_uri": "https://localhost:8080/"
        },
        "id": "e3LWpLLxZR3E",
        "outputId": "ad49633a-aa77-48fd-dd61-8f6fc90b768a"
      },
      "execution_count": 94,
      "outputs": [
        {
          "output_type": "stream",
          "name": "stdout",
          "text": [
            "Nome: Carla, CPF: 2225555, cidade: Bauru\n",
            "None\n",
            "Nome: Fabio, CPF: 2225555, cidade: Cotia\n",
            "None\n"
          ]
        }
      ]
    },
    {
      "cell_type": "code",
      "source": [],
      "metadata": {
        "id": "Up3ssEqllAjF"
      },
      "execution_count": null,
      "outputs": []
    }
  ]
}