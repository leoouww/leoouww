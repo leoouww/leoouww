{
  "nbformat": 4,
  "nbformat_minor": 0,
  "metadata": {
    "colab": {
      "provenance": [],
      "authorship_tag": "ABX9TyO8eL1tS0r+V3V4+ErZ1MvK",
      "include_colab_link": true
    },
    "kernelspec": {
      "name": "python3",
      "display_name": "Python 3"
    },
    "language_info": {
      "name": "python"
    }
  },
  "cells": [
    {
      "cell_type": "markdown",
      "metadata": {
        "id": "view-in-github",
        "colab_type": "text"
      },
      "source": [
        "<a href=\"https://colab.research.google.com/github/leoouww/leoouww/blob/main/AtividadeAvaliativaTopicosEspeciais.ipynb\" target=\"_parent\"><img src=\"https://colab.research.google.com/assets/colab-badge.svg\" alt=\"Open In Colab\"/></a>"
      ]
    },
    {
      "cell_type": "code",
      "execution_count": 17,
      "metadata": {
        "id": "4uyIA-M4Viko"
      },
      "outputs": [],
      "source": [
        "#Leonardo Rodrigues de Castro\n",
        "#PT3008479\n",
        "\n",
        "# TÓPICOS ESPECIAIS: ATIVIDADE AVALIATIVA\n",
        "\n",
        "\n",
        "class Pessoa:\n",
        "  def __init__(self, nome, cpf, cidade):\n",
        "    self.__nome = nome\n",
        "    self.__cpf = cpf\n",
        "    self.__cidade = cidade\n",
        "\n",
        "  def exibir_dados(self):\n",
        "    print('Nome: '+self.__nome+ ', CPF: '+str(self.__cpf)+ ', cidade: ',str(self.__cidade))\n",
        "\n",
        "\n",
        "class Historico(Pessoa):\n",
        "  def __init__(self, transacao):\n",
        "    self.__transacao = transacao\n",
        "  \n",
        "  def exibir(self):\n",
        "    print('Nome: '+self.__nome+ ', CPF: '+str(self.__cpf)+ ', cidade: ',str(self.__cidade)+ ' e transacao: ', str(self.__transacao))\n",
        "\n"
      ]
    },
    {
      "cell_type": "code",
      "source": [],
      "metadata": {
        "colab": {
          "base_uri": "https://localhost:8080/",
          "height": 183
        },
        "id": "xJ8nrOVyZDKF",
        "outputId": "ee6eb026-f4c5-47e2-82f7-624a6bab251f"
      },
      "execution_count": 19,
      "outputs": [
        {
          "output_type": "error",
          "ename": "TypeError",
          "evalue": "ignored",
          "traceback": [
            "\u001b[0;31m---------------------------------------------------------------------------\u001b[0m",
            "\u001b[0;31mTypeError\u001b[0m                                 Traceback (most recent call last)",
            "\u001b[0;32m<ipython-input-19-85ae08d7902c>\u001b[0m in \u001b[0;36m<module>\u001b[0;34m\u001b[0m\n\u001b[1;32m      1\u001b[0m \u001b[0mCarla\u001b[0m \u001b[0;34m=\u001b[0m \u001b[0mPessoa\u001b[0m\u001b[0;34m(\u001b[0m\u001b[0;34m\"Carla\"\u001b[0m\u001b[0;34m,\u001b[0m \u001b[0;34m\"2225505\"\u001b[0m\u001b[0;34m,\u001b[0m\u001b[0;34m\"Bauru\"\u001b[0m\u001b[0;34m)\u001b[0m\u001b[0;34m\u001b[0m\u001b[0;34m\u001b[0m\u001b[0m\n\u001b[0;32m----> 2\u001b[0;31m \u001b[0mCarlaH\u001b[0m \u001b[0;34m=\u001b[0m \u001b[0mHistorico\u001b[0m\u001b[0;34m(\u001b[0m\u001b[0mCarla\u001b[0m\u001b[0;34m,\u001b[0m\u001b[0;34m\"débito\"\u001b[0m\u001b[0;34m)\u001b[0m\u001b[0;34m\u001b[0m\u001b[0;34m\u001b[0m\u001b[0m\n\u001b[0m",
            "\u001b[0;31mTypeError\u001b[0m: __init__() takes 2 positional arguments but 3 were given"
          ]
        }
      ]
    },
    {
      "cell_type": "code",
      "source": [
        "Carla.exibir_dados()"
      ],
      "metadata": {
        "colab": {
          "base_uri": "https://localhost:8080/"
        },
        "id": "rcJ23VkkZM92",
        "outputId": "2f60a714-c53e-4b19-9925-6b1b3420e178"
      },
      "execution_count": 15,
      "outputs": [
        {
          "output_type": "stream",
          "name": "stdout",
          "text": [
            "Nome: Carla, CPF: 2225505, cidade:  Bauru\n"
          ]
        }
      ]
    },
    {
      "cell_type": "code",
      "source": [],
      "metadata": {
        "id": "e3LWpLLxZR3E"
      },
      "execution_count": null,
      "outputs": []
    }
  ]
}